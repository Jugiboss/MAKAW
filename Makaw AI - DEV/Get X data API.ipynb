{
 "cells": [
  {
   "cell_type": "code",
   "execution_count": 3,
   "id": "26c7091d",
   "metadata": {},
   "outputs": [],
   "source": [
    "import pandas as pd\n",
    "import sqlite3"
   ]
  },
  {
   "cell_type": "code",
   "execution_count": 4,
   "id": "c1a95f08",
   "metadata": {},
   "outputs": [],
   "source": [
    "# Connect to SQLite database\n",
    "conn = sqlite3.connect(\"x_data.db\")\n",
    "cursor = conn.cursor()\n",
    "\n",
    "# 🔥 Drop the old table (only if you want to reset!)\n",
    "cursor.execute(\"DROP TABLE IF EXISTS twitter_posts\")\n",
    "\n",
    "# ✅ Create table with correct schema\n",
    "cursor.execute(\"\"\"\n",
    "CREATE TABLE twitter_posts (\n",
    "    id TEXT PRIMARY KEY,\n",
    "    author_id TEXT,\n",
    "    username TEXT,\n",
    "    text TEXT,\n",
    "    created_at TEXT,\n",
    "    like_count INTEGER,\n",
    "    retweet_count INTEGER,\n",
    "    reply_count INTEGER,\n",
    "    quote_count INTEGER,\n",
    "    media_url TEXT,\n",
    "    source TEXT,\n",
    "    language TEXT,\n",
    "    api_completed_timestamp TEXT\n",
    ")\n",
    "\"\"\")\n",
    "\n",
    "# Commit and close the database connection\n",
    "conn.commit()\n",
    "conn.close()"
   ]
  },
  {
   "cell_type": "code",
   "execution_count": 43,
   "id": "1116f4be",
   "metadata": {},
   "outputs": [
    {
     "name": "stdout",
     "output_type": "stream",
     "text": [
      "{'data': [{'public_metrics': {'retweet_count': 0, 'reply_count': 0, 'like_count': 1, 'quote_count': 0, 'bookmark_count': 0, 'impression_count': 3}, 'entities': {'hashtags': [{'start': 29, 'end': 35, 'tag': 'macav'}, {'start': 36, 'end': 44, 'tag': 'macavai'}], 'annotations': [{'start': 30, 'end': 34, 'probability': 0.6933, 'type': 'Other', 'normalized_text': 'macav'}, {'start': 37, 'end': 43, 'probability': 0.6652, 'type': 'Other', 'normalized_text': 'macavai'}]}, 'author_id': '1901356168121028608', 'created_at': '2025-03-19T12:55:05.000Z', 'lang': 'en', 'id': '1902343066830172663', 'text': 'Extremely happy right now :) #macav #macavai', 'edit_history_tweet_ids': ['1902343066830172663']}], 'includes': {'users': [{'id': '1901356168121028608', 'name': 'Macav.AI', 'username': 'Macav_ai'}]}, 'meta': {'newest_id': '1902343066830172663', 'oldest_id': '1902343066830172663', 'result_count': 1}}\n"
     ]
    }
   ],
   "source": [
    "import requests\n",
    "import sqlite3\n",
    "import datetime\n",
    "\n",
    "# Set up Bearer Token (Replace with your actual token)\n",
    "BEARER_TOKEN = \"AAAAAAAAAAAAAAAAAAAAAPjpzwEAAAAAs%2FQnzL%2FMiOmEjyOXk9ElY0n1tw8%3D3pAhfbNjswssgDM69AxRjdUiX6VHcqiJHO0Nh67xYleSneiek0\"\n",
    "\n",
    "# Define the hashtag you want to search for (without #)\n",
    "HASHTAG = \"macavai\"\n",
    "\n",
    "# Twitter API endpoint for recent tweets with a hashtag\n",
    "url = \"https://api.twitter.com/2/tweets/search/recent\"\n",
    "\n",
    "# Define query parameters\n",
    "params = {\n",
    "    \"query\": f\"#{HASHTAG} -is:reply\",  # Exclude replies\n",
    "    \"tweet.fields\": \"id,text,created_at,public_metrics,attachments,lang,source,author_id,entities\",\n",
    "    \"expansions\": \"attachments.media_keys,author_id\",\n",
    "    \"media.fields\": \"media_key,type,url\",\n",
    "    \"user.fields\": \"id,username\",\n",
    "    \"max_results\": 10,  # Adjust as needed (max 100)\n",
    "}\n",
    "\n",
    "# Set up headers with Bearer Token\n",
    "headers = {\n",
    "    \"Authorization\": f\"Bearer {BEARER_TOKEN}\"\n",
    "}\n",
    "\n",
    "# Make API request\n",
    "response = requests.get(url, params=params, headers=headers)\n",
    "tweets_data = response.json()\n",
    "print(tweets_data)"
   ]
  },
  {
   "cell_type": "code",
   "execution_count": 44,
   "id": "09976f8c",
   "metadata": {},
   "outputs": [
    {
     "data": {
      "text/plain": [
       "{'data': [{'public_metrics': {'retweet_count': 0,\n",
       "    'reply_count': 0,\n",
       "    'like_count': 1,\n",
       "    'quote_count': 0,\n",
       "    'bookmark_count': 0,\n",
       "    'impression_count': 3},\n",
       "   'entities': {'hashtags': [{'start': 29, 'end': 35, 'tag': 'macav'},\n",
       "     {'start': 36, 'end': 44, 'tag': 'macavai'}],\n",
       "    'annotations': [{'start': 30,\n",
       "      'end': 34,\n",
       "      'probability': 0.6933,\n",
       "      'type': 'Other',\n",
       "      'normalized_text': 'macav'},\n",
       "     {'start': 37,\n",
       "      'end': 43,\n",
       "      'probability': 0.6652,\n",
       "      'type': 'Other',\n",
       "      'normalized_text': 'macavai'}]},\n",
       "   'author_id': '1901356168121028608',\n",
       "   'created_at': '2025-03-19T12:55:05.000Z',\n",
       "   'lang': 'en',\n",
       "   'id': '1902343066830172663',\n",
       "   'text': 'Extremely happy right now :) #macav #macavai',\n",
       "   'edit_history_tweet_ids': ['1902343066830172663']}],\n",
       " 'includes': {'users': [{'id': '1901356168121028608',\n",
       "    'name': 'Macav.AI',\n",
       "    'username': 'Macav_ai'}]},\n",
       " 'meta': {'newest_id': '1902343066830172663',\n",
       "  'oldest_id': '1902343066830172663',\n",
       "  'result_count': 1}}"
      ]
     },
     "metadata": {},
     "output_type": "display_data"
    }
   ],
   "source": [
    "display(tweets_data)"
   ]
  },
  {
   "cell_type": "code",
   "execution_count": 51,
   "id": "ec9210aa",
   "metadata": {},
   "outputs": [
    {
     "data": {
      "text/plain": [
       "'macavai'"
      ]
     },
     "execution_count": 51,
     "metadata": {},
     "output_type": "execute_result"
    }
   ],
   "source": [
    "tweets_data['data'][0]['entities']['hashtags'][1]['tag']"
   ]
  },
  {
   "cell_type": "code",
   "execution_count": 59,
   "id": "459280ad",
   "metadata": {},
   "outputs": [
    {
     "name": "stdout",
     "output_type": "stream",
     "text": [
      "macav,macavai\n"
     ]
    }
   ],
   "source": [
    "# Extract data\n",
    "tweet = tweets_data['data'][0]\n",
    "user = tweets_data['includes']['users'][0]\n",
    "\n",
    "tweet_id = tweet['id']\n",
    "text = tweet['text']\n",
    "hashtags = \",\".join([tag['tag'] for tag in tweet.get('entities', {}).get('hashtags', [])])\n",
    "author_id = tweet['author_id']\n",
    "username = user['username']\n",
    "created_at = tweet['created_at']\n",
    "\n",
    "print(hashtags)"
   ]
  },
  {
   "cell_type": "code",
   "execution_count": 66,
   "id": "8f23dba7",
   "metadata": {},
   "outputs": [
    {
     "name": "stdout",
     "output_type": "stream",
     "text": [
      "Data inserted successfully with API timestamp: 2025-03-19T22:19:25.963911\n"
     ]
    }
   ],
   "source": [
    "import sqlite3\n",
    "from datetime import datetime\n",
    "\n",
    "# Sample data from API\n",
    "\n",
    "# Extract data\n",
    "tweet = tweets_data['data'][0]\n",
    "user = tweets_data['includes']['users'][0]\n",
    "\n",
    "tweet_id = tweet['id']\n",
    "text = tweet['text']\n",
    "hashtags = \",\".join([tag['tag'] for tag in tweet.get('entities', {}).get('hashtags', [])])\n",
    "author_id = tweet['author_id']\n",
    "geo = tweet.get(\"geo\", {}).get(\"place_id\", \"N/A\")\n",
    "username = user['username']\n",
    "created_at = tweet['created_at']\n",
    "\n",
    "# Public metrics\n",
    "metrics = tweet['public_metrics']\n",
    "retweet_count = metrics['retweet_count']\n",
    "reply_count = metrics['reply_count']\n",
    "like_count = metrics['like_count']\n",
    "quote_count = metrics['quote_count']\n",
    "bookmark_count = metrics['bookmark_count']\n",
    "impression_count = metrics['impression_count']\n",
    "\n",
    "# Get API completed timestamp (current time in UTC)\n",
    "api_completed_timestamp = datetime.utcnow().isoformat()\n",
    "\n",
    "# Database connection\n",
    "conn = sqlite3.connect(\"x.db\")\n",
    "cursor = conn.cursor()\n",
    "\n",
    "# Create table with API completed timestamp\n",
    "cursor.execute(\"\"\"\n",
    "    CREATE TABLE IF NOT EXISTS x_posts (\n",
    "    id TEXT PRIMARY KEY,\n",
    "    text TEXT,\n",
    "    hashtags TEXT,\n",
    "    author_id TEXT,\n",
    "    username TEXT,\n",
    "    created_at TEXT,\n",
    "    retweet_count INTEGER,\n",
    "    reply_count INTEGER,\n",
    "    like_count INTEGER,\n",
    "    quote_count INTEGER,\n",
    "    bookmark_count INTEGER,\n",
    "    impression_count INTEGER,\n",
    "    geo_place_id TEXT, \n",
    "    api_completed_timestamp TEXT\n",
    "    )\n",
    "\"\"\")\n",
    "\n",
    "# Insert data\n",
    "cursor.execute(\"\"\"\n",
    "    INSERT OR REPLACE INTO x_posts (id, text, hashtags, author_id, username, created_at,\n",
    "                                   retweet_count, reply_count, like_count, quote_count,\n",
    "                                   bookmark_count, impression_count, geo_place_id, api_completed_timestamp)\n",
    "    VALUES (?, ?, ?, ?, ?, ?, ?, ?, ?, ?, ?, ?, ?, ?)\n",
    "\"\"\", (tweet_id, text, hashtags, author_id, username, created_at,\n",
    "      retweet_count, reply_count, like_count, quote_count, bookmark_count,\n",
    "      impression_count, geo, api_completed_timestamp))\n",
    "\n",
    "# Commit and close connection\n",
    "conn.commit()\n",
    "conn.close()\n",
    "\n",
    "print(\"Data inserted successfully with API timestamp:\", api_completed_timestamp)"
   ]
  },
  {
   "cell_type": "code",
   "execution_count": 1,
   "id": "55e2879f",
   "metadata": {},
   "outputs": [
    {
     "data": {
      "text/html": [
       "<div>\n",
       "<style scoped>\n",
       "    .dataframe tbody tr th:only-of-type {\n",
       "        vertical-align: middle;\n",
       "    }\n",
       "\n",
       "    .dataframe tbody tr th {\n",
       "        vertical-align: top;\n",
       "    }\n",
       "\n",
       "    .dataframe thead th {\n",
       "        text-align: right;\n",
       "    }\n",
       "</style>\n",
       "<table border=\"1\" class=\"dataframe\">\n",
       "  <thead>\n",
       "    <tr style=\"text-align: right;\">\n",
       "      <th></th>\n",
       "      <th>id</th>\n",
       "      <th>text</th>\n",
       "      <th>hashtags</th>\n",
       "      <th>author_id</th>\n",
       "      <th>username</th>\n",
       "      <th>created_at</th>\n",
       "      <th>retweet_count</th>\n",
       "      <th>reply_count</th>\n",
       "      <th>like_count</th>\n",
       "      <th>quote_count</th>\n",
       "      <th>bookmark_count</th>\n",
       "      <th>impression_count</th>\n",
       "      <th>geo_place_id</th>\n",
       "      <th>api_completed_timestamp</th>\n",
       "    </tr>\n",
       "  </thead>\n",
       "  <tbody>\n",
       "    <tr>\n",
       "      <th>0</th>\n",
       "      <td>1902343066830172663</td>\n",
       "      <td>Extremely happy right now :) #macav #macavai</td>\n",
       "      <td>macav,macavai</td>\n",
       "      <td>1901356168121028608</td>\n",
       "      <td>Macav_ai</td>\n",
       "      <td>2025-03-19T12:55:05.000Z</td>\n",
       "      <td>0</td>\n",
       "      <td>0</td>\n",
       "      <td>1</td>\n",
       "      <td>0</td>\n",
       "      <td>0</td>\n",
       "      <td>3</td>\n",
       "      <td>N/A</td>\n",
       "      <td>2025-03-19T22:19:25.963911</td>\n",
       "    </tr>\n",
       "  </tbody>\n",
       "</table>\n",
       "</div>"
      ],
      "text/plain": [
       "                    id                                          text  \\\n",
       "0  1902343066830172663  Extremely happy right now :) #macav #macavai   \n",
       "\n",
       "        hashtags            author_id  username                created_at  \\\n",
       "0  macav,macavai  1901356168121028608  Macav_ai  2025-03-19T12:55:05.000Z   \n",
       "\n",
       "   retweet_count  reply_count  like_count  quote_count  bookmark_count  \\\n",
       "0              0            0           1            0               0   \n",
       "\n",
       "   impression_count geo_place_id     api_completed_timestamp  \n",
       "0                 3          N/A  2025-03-19T22:19:25.963911  "
      ]
     },
     "metadata": {},
     "output_type": "display_data"
    }
   ],
   "source": [
    "import sqlite3\n",
    "import pandas as pd\n",
    "\n",
    "# Connect to SQLite database\n",
    "db_name = \"x.db\"\n",
    "conn = sqlite3.connect(db_name)\n",
    "\n",
    "# Read data into a Pandas DataFrame\n",
    "query = \"SELECT * FROM x_posts\"\n",
    "df = pd.read_sql(query, conn)\n",
    "\n",
    "# Close the database connection\n",
    "conn.close()\n",
    "\n",
    "# Display the first few rows\n",
    "display(df)"
   ]
  },
  {
   "cell_type": "code",
   "execution_count": null,
   "id": "4875f6f4",
   "metadata": {},
   "outputs": [],
   "source": []
  },
  {
   "cell_type": "code",
   "execution_count": 10,
   "id": "4cdfcad0",
   "metadata": {
    "scrolled": true
   },
   "outputs": [
    {
     "name": "stdout",
     "output_type": "stream",
     "text": [
      "{'Date': 'Wed, 19 Mar 2025 20:50:26 GMT', 'Content-Type': 'application/json; charset=utf-8', 'Content-Length': '192', 'Connection': 'keep-alive', 'perf': '7402827104', 'Set-Cookie': 'guest_id=v1%3A174241742671049508; Max-Age=34214400; Expires=Sun, 19 Apr 2026 20:50:26 GMT; Path=/; Domain=.twitter.com; Secure; SameSite=None, __cf_bm=m.kwK69dWiL0UTnjjvs4ImSE8YayI9LB1oycsAhtGvU-1742417426-1.0.1.1-nvhfx1j1fRt0pobzcGCkCCzR7WEJAlkDdGiKkY80jKHJRwI_gSxo.a.65OpW.1_rbSBvLPxEcT8EMAm6iZSY0HBrnWYjr_SjtUwx0yIm8og; path=/; expires=Wed, 19-Mar-25 21:20:26 GMT; domain=.twitter.com; HttpOnly; Secure; SameSite=None', 'api-version': '2.131', 'Cache-Control': 'no-cache, no-store, max-age=0', 'x-access-level': 'read', 'x-frame-options': 'SAMEORIGIN', 'Content-Encoding': 'gzip', 'x-transaction-id': 'b3932e0d6ef1ba0e', 'x-xss-protection': '0', 'x-rate-limit-limit': '1', 'x-rate-limit-reset': '1742418326', 'content-disposition': 'attachment; filename=json.json', 'x-content-type-options': 'nosniff', 'x-rate-limit-remaining': '0', 'strict-transport-security': 'max-age=631138519', 'x-response-time': '126', 'x-connection-hash': '7381a793296d2963624aa6f151d332ae8721e0121861489da9fe47fce8f47f37', 'vary': 'accept-encoding', 'cf-cache-status': 'DYNAMIC', 'Server': 'cloudflare tsa_o', 'CF-RAY': '922fd7947a1eecd3-ARN'}\n"
     ]
    }
   ],
   "source": [
    "rate_limit_url = \"https://api.twitter.com/2/tweets/search/recent\"\n",
    "rate_limit_headers = {\n",
    "    \"Authorization\": f\"Bearer {BEARER_TOKEN}\"\n",
    "}\n",
    "response = requests.get(rate_limit_url, headers=rate_limit_headers)\n",
    "print(response.headers)"
   ]
  },
  {
   "cell_type": "code",
   "execution_count": 11,
   "id": "0cde4170",
   "metadata": {},
   "outputs": [
    {
     "name": "stdout",
     "output_type": "stream",
     "text": [
      "Rate limit resets at: 2025-03-19 13:28:20\n"
     ]
    }
   ],
   "source": [
    "import datetime\n",
    "\n",
    "reset_time = datetime.datetime.utcfromtimestamp(1742390900)\n",
    "print(\"Rate limit resets at:\", reset_time)"
   ]
  },
  {
   "cell_type": "code",
   "execution_count": 12,
   "id": "76d67451",
   "metadata": {
    "scrolled": true
   },
   "outputs": [
    {
     "name": "stdout",
     "output_type": "stream",
     "text": [
      "Remaining Requests: 0\n",
      "Rate Limit Resets At: 1742418326\n",
      "2025-03-19 21:05:26\n"
     ]
    }
   ],
   "source": [
    "def check_rate_limit():\n",
    "    url = \"https://api.twitter.com/2/tweets/search/recent\"\n",
    "    headers = {\"Authorization\": f\"Bearer {BEARER_TOKEN}\"}\n",
    "    response = requests.get(url, headers=headers)\n",
    "    \n",
    "    print(\"Remaining Requests:\", response.headers.get(\"x-rate-limit-remaining\"))\n",
    "    print(\"Rate Limit Resets At:\", response.headers.get(\"x-rate-limit-reset\"))  # UNIX timestamp\n",
    "\n",
    "check_rate_limit()\n",
    "reset_time = datetime.datetime.utcfromtimestamp(1742418326)\n",
    "print(reset_time)"
   ]
  }
 ],
 "metadata": {
  "kernelspec": {
   "display_name": "Python 3 (ipykernel)",
   "language": "python",
   "name": "python3"
  },
  "language_info": {
   "codemirror_mode": {
    "name": "ipython",
    "version": 3
   },
   "file_extension": ".py",
   "mimetype": "text/x-python",
   "name": "python",
   "nbconvert_exporter": "python",
   "pygments_lexer": "ipython3",
   "version": "3.9.7"
  }
 },
 "nbformat": 4,
 "nbformat_minor": 5
}
