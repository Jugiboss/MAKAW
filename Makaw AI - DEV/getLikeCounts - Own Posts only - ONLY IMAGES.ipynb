{
 "cells": [
  {
   "cell_type": "code",
   "execution_count": 1,
   "id": "9fb52962",
   "metadata": {},
   "outputs": [],
   "source": [
    "import requests\n",
    "import pandas as pd\n",
    "import re\n",
    "from datetime import datetime \n",
    "# Your Instagram Business Account User ID and long-lived access token\n",
    "\n",
    "# The hashtag you want to search for (without the '#' symbol)\n",
    "HASHTAG = 'makaw'  # Replace with your desired hashtag (without the '#')\n",
    "INSTAGRAM_USER_ID = '17841472712121977'\n",
    "ACCESS_TOKEN = 'EAANoZCe4Hve0BO1kZAI1Qwibz9l4Eh9sx8jDHZC0LKXtPSlYwXV7f7SZB0r1IAVlraI5FaahbNsIWDolPtbbwyp2rhluqSPox3RLctCx8bRYVxZAGG4SZAcyx40s4sZB3mxQU5aVlpnoOGbyjHyUrXdlleWA1VuPkWOR11OE5nL5ZAIUxHbpi4wd6QZDZD'\n",
    "# Request URL to get the hashtag ID\n"
   ]
  },
  {
   "cell_type": "code",
   "execution_count": 3,
   "id": "a183db05",
   "metadata": {},
   "outputs": [],
   "source": [
    "def extract_hashtags(caption):\n",
    "    hashtags = re.findall(r'#\\w+', caption)  # Find all words starting with #\n",
    "    caption_without_hashtags = re.sub(r'#\\w+', '', caption).strip()  # Remove hashtags from caption\n",
    "    return caption_without_hashtags, ' '.join(hashtags)  # Return cleaned caption and joined hashtags\n"
   ]
  },
  {
   "cell_type": "code",
   "execution_count": 4,
   "id": "8a7696a2",
   "metadata": {},
   "outputs": [
    {
     "name": "stdout",
     "output_type": "stream",
     "text": [
      "Hashtag ID: 17841562030128143\n"
     ]
    }
   ],
   "source": [
    "#GET HASHTAG_ID FOR A CERTAIN HASHTAG\n",
    "\n",
    "url = f\"https://graph.facebook.com/v18.0/ig_hashtag_search\"\n",
    "params = {\n",
    "    \"user_id\": INSTAGRAM_USER_ID,\n",
    "    \"q\": HASHTAG,  # Search for the hashtag\n",
    "    \"access_token\": ACCESS_TOKEN\n",
    "}\n",
    "\n",
    "# Make the API request\n",
    "response = requests.get(url, params=params)\n",
    "\n",
    "# Parse the response JSON to get the hashtag ID\n",
    "hashtag_data = response.json()\n",
    "\n",
    "# Extract the hashtag ID (first result)\n",
    "hashtag_id = hashtag_data.get(\"data\", [{}])[0].get(\"id\", None)\n",
    "\n",
    "print(\"Hashtag ID:\", hashtag_id)"
   ]
  },
  {
   "cell_type": "code",
   "execution_count": 6,
   "id": "052ad7b0",
   "metadata": {},
   "outputs": [
    {
     "name": "stdout",
     "output_type": "stream",
     "text": [
      "<Response [200]>\n",
      "                  id                                            caption  \\\n",
      "0  17860517949380426  What is this shit???? this is the worst thing ...   \n",
      "\n",
      "          hashtags media_type  \\\n",
      "0  #makaw #makawai      IMAGE   \n",
      "\n",
      "                                           media_url  \\\n",
      "0  https://scontent.cdninstagram.com/v/t51.75761-...   \n",
      "\n",
      "                                  permalink                 timestamp  \\\n",
      "0  https://www.instagram.com/p/DHbZJxfNmch/  2025-03-20T16:33:44+0000   \n",
      "\n",
      "   like_count latest_query_completed_timestamp  \n",
      "0           2       2025-03-20T16:34:42.436531  \n"
     ]
    }
   ],
   "source": [
    "\n",
    "# Request URL to get media for the hashtag ID\n",
    "media_url = f\"https://graph.facebook.com/v18.0/{hashtag_id}/recent_media\"\n",
    "params = {\n",
    "    \"user_id\": INSTAGRAM_USER_ID,\n",
    "    \"fields\": \"id,caption,media_type,media_url,permalink,timestamp\",  # Removed owner field\n",
    "    \"access_token\": ACCESS_TOKEN\n",
    "}\n",
    "\n",
    "# Make the API request to get the media\n",
    "response = requests.get(media_url, params=params)\n",
    "print(response)\n",
    "# Check if the response is successful\n",
    "if response.status_code == 200:\n",
    "    # Parse the response JSON\n",
    "    media_data = response.json()\n",
    "\n",
    "    # Initialize the media list\n",
    "    media_list = []\n",
    "\n",
    "    # Loop through each media item in the response data\n",
    "    for media in media_data.get(\"data\", []):\n",
    "        if media[\"media_type\"] == \"IMAGE\":  # Only include images\n",
    "            caption = media.get(\"caption\", \"No caption\")\n",
    "            cleaned_caption, hashtags = extract_hashtags(caption)  # Split caption and hashtags\n",
    "\n",
    "            post_info = {\n",
    "                \"id\": media[\"id\"],\n",
    "                \"caption\": cleaned_caption,  # Caption without hashtags\n",
    "                \"hashtags\": hashtags,  # Extracted hashtags\n",
    "                \"media_type\": media[\"media_type\"],\n",
    "                \"media_url\": media.get(\"media_url\", \"No URL\"),\n",
    "                \"permalink\": media[\"permalink\"],\n",
    "                \"timestamp\": media[\"timestamp\"],\n",
    "                \"like_count\": 0  # Placeholder for like count\n",
    "            }\n",
    "\n",
    "        # Now fetch the like count for the specific media ID\n",
    "        media_id = media['id']\n",
    "        like_count_url = f\"https://graph.facebook.com/v18.0/{media_id}\"\n",
    "        like_count_params = {\n",
    "            \"fields\": \"like_count\",  # Request the like_count field along with the media ID\n",
    "            \"access_token\": ACCESS_TOKEN\n",
    "        }\n",
    "\n",
    "        # Make the API request to get the like count\n",
    "        like_response = requests.get(like_count_url, params=like_count_params)\n",
    "\n",
    "        if like_response.status_code == 200:\n",
    "            like_data = like_response.json()\n",
    "            # Update the post_info with the like count\n",
    "            post_info['like_count'] = like_data.get('like_count', 0)\n",
    "        else:\n",
    "            print(f\"Error fetching like count for Media ID: {media_id}, Status Code: {like_response.status_code}\")\n",
    "\n",
    "        # Append the structured media information to the media list\n",
    "        media_list.append(post_info)\n",
    "        \n",
    "    api_completed_timestamp = datetime.utcnow().isoformat() \n",
    "    # Create a pandas DataFrame from the media list\n",
    "    media_df = pd.DataFrame(media_list)\n",
    "    media_df[\"latest_query_completed_timestamp\"] = api_completed_timestamp\n",
    "\n",
    "    # Display the DataFrame (if in Jupyter, this will render as a nice table)\n",
    "    print(media_df)\n",
    "\n",
    "else:\n",
    "    print(f\"Error: {response.status_code} - {response.text}\")\n"
   ]
  },
  {
   "cell_type": "code",
   "execution_count": 7,
   "id": "dc27c6c7",
   "metadata": {},
   "outputs": [
    {
     "data": {
      "text/html": [
       "<div>\n",
       "<style scoped>\n",
       "    .dataframe tbody tr th:only-of-type {\n",
       "        vertical-align: middle;\n",
       "    }\n",
       "\n",
       "    .dataframe tbody tr th {\n",
       "        vertical-align: top;\n",
       "    }\n",
       "\n",
       "    .dataframe thead th {\n",
       "        text-align: right;\n",
       "    }\n",
       "</style>\n",
       "<table border=\"1\" class=\"dataframe\">\n",
       "  <thead>\n",
       "    <tr style=\"text-align: right;\">\n",
       "      <th></th>\n",
       "      <th>id</th>\n",
       "      <th>caption</th>\n",
       "      <th>hashtags</th>\n",
       "      <th>media_type</th>\n",
       "      <th>media_url</th>\n",
       "      <th>permalink</th>\n",
       "      <th>timestamp</th>\n",
       "      <th>like_count</th>\n",
       "      <th>latest_query_completed_timestamp</th>\n",
       "    </tr>\n",
       "  </thead>\n",
       "  <tbody>\n",
       "    <tr>\n",
       "      <th>0</th>\n",
       "      <td>17860517949380426</td>\n",
       "      <td>What is this shit???? this is the worst thing ...</td>\n",
       "      <td>#makaw #makawai</td>\n",
       "      <td>IMAGE</td>\n",
       "      <td>https://scontent.cdninstagram.com/v/t51.75761-...</td>\n",
       "      <td>https://www.instagram.com/p/DHbZJxfNmch/</td>\n",
       "      <td>2025-03-20T16:33:44+0000</td>\n",
       "      <td>2</td>\n",
       "      <td>2025-03-20T16:34:42.436531</td>\n",
       "    </tr>\n",
       "  </tbody>\n",
       "</table>\n",
       "</div>"
      ],
      "text/plain": [
       "                  id                                            caption  \\\n",
       "0  17860517949380426  What is this shit???? this is the worst thing ...   \n",
       "\n",
       "          hashtags media_type  \\\n",
       "0  #makaw #makawai      IMAGE   \n",
       "\n",
       "                                           media_url  \\\n",
       "0  https://scontent.cdninstagram.com/v/t51.75761-...   \n",
       "\n",
       "                                  permalink                 timestamp  \\\n",
       "0  https://www.instagram.com/p/DHbZJxfNmch/  2025-03-20T16:33:44+0000   \n",
       "\n",
       "   like_count latest_query_completed_timestamp  \n",
       "0           2       2025-03-20T16:34:42.436531  "
      ]
     },
     "metadata": {},
     "output_type": "display_data"
    }
   ],
   "source": [
    "display(media_df)"
   ]
  },
  {
   "cell_type": "code",
   "execution_count": 8,
   "id": "ab728fb1",
   "metadata": {},
   "outputs": [],
   "source": [
    "#Store it in a database\n",
    "import sqlite3\n",
    "\n",
    "# Connect to (or create) the database\n",
    "conn = sqlite3.connect(\"instagram_data.db\")\n",
    "cursor = conn.cursor()\n",
    "\n",
    "# Create a table for Instagram posts (if not exists)\n",
    "cursor.execute(\"\"\"\n",
    "CREATE TABLE IF NOT EXISTS instagram_posts (\n",
    "    id TEXT PRIMARY KEY,\n",
    "    caption TEXT,\n",
    "    hashtags TEXT,\n",
    "    media_type TEXT,\n",
    "    media_url TEXT,\n",
    "    permalink TEXT,\n",
    "    timestamp TEXT,\n",
    "    like_count INTEGER,\n",
    "    api_completed_timestamp TEXT\n",
    ")\n",
    "\"\"\")\n",
    "\n",
    "# Insert data into the database\n",
    "def insert_into_db(data):\n",
    "    with conn:\n",
    "        cursor.executemany(\"\"\"\n",
    "        INSERT OR REPLACE INTO instagram_posts \n",
    "        (id, caption, hashtags, media_type, media_url, permalink, timestamp, like_count, api_completed_timestamp) \n",
    "        VALUES (?, ?, ?, ?, ?, ?, ?, ?, ?)\n",
    "        \"\"\", data)\n",
    "\n",
    "# Convert DataFrame to list of tuples and insert\n",
    "media_df = pd.DataFrame(media_list)  # Assuming media_list from previous code\n",
    "media_df[\"api_completed_timestamp\"] = api_completed_timestamp  # Add timestamp\n",
    "insert_into_db(media_df.to_records(index=False).tolist())\n",
    "\n",
    "# Commit and close the connection\n",
    "conn.commit()\n",
    "conn.close()"
   ]
  },
  {
   "cell_type": "code",
   "execution_count": 9,
   "id": "3b81ee02",
   "metadata": {},
   "outputs": [
    {
     "name": "stdout",
     "output_type": "stream",
     "text": [
      "('17920309653044896', '#makaw #makawai #testmakaw', 2)\n",
      "('18034496246531367', '#makawai #makaw #testmakaw', 0)\n",
      "('18090093601497188', '#makawai #makaw #testmakaw', 1)\n",
      "('17861666277364573', '#makaw #makawai #polygon #marketing #sentimentanalysis #ai #blockchain', 1)\n",
      "('18156501676314981', '#makaw', 1)\n",
      "('17860517949380426', '#makaw #makawai', 2)\n"
     ]
    }
   ],
   "source": [
    "#Query the data from the database\n",
    "# Connect to the SQLite database\n",
    "conn = sqlite3.connect('instagram_data.db')\n",
    "cursor = conn.cursor()\n",
    "\n",
    "# Query to fetch all posts from the instagram_posts table\n",
    "cursor.execute(\n",
    "    \"SELECT id, hashtags,like_count FROM instagram_posts\")\n",
    "\n",
    "# Fetch all rows of the query result\n",
    "rows = cursor.fetchall()\n",
    "\n",
    "# Print each row in the result\n",
    "for row in rows:\n",
    "    print(row)\n",
    "\n",
    "# Close the connection\n",
    "conn.close()\n"
   ]
  },
  {
   "cell_type": "code",
   "execution_count": 10,
   "id": "22521f6a",
   "metadata": {},
   "outputs": [
    {
     "name": "stdout",
     "output_type": "stream",
     "text": [
      "What is this shit???? this is the worst thing i've ever seen. Holy fuck i'm dissapointed.... get a life.\n"
     ]
    }
   ],
   "source": [
    "print(media_df.caption[0])"
   ]
  }
 ],
 "metadata": {
  "kernelspec": {
   "display_name": "Python 3 (ipykernel)",
   "language": "python",
   "name": "python3"
  },
  "language_info": {
   "codemirror_mode": {
    "name": "ipython",
    "version": 3
   },
   "file_extension": ".py",
   "mimetype": "text/x-python",
   "name": "python",
   "nbconvert_exporter": "python",
   "pygments_lexer": "ipython3",
   "version": "3.9.7"
  }
 },
 "nbformat": 4,
 "nbformat_minor": 5
}
