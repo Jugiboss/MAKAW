{
 "cells": [
  {
   "cell_type": "code",
   "execution_count": 0,
   "metadata": {
    "application/vnd.databricks.v1+cell": {
     "cellMetadata": {
      "byteLimit": 2048000,
      "rowLimit": 10000
     },
     "inputWidgets": {},
     "nuid": "b016590b-e94d-4bcb-9a36-b048a2ec7ec8",
     "showTitle": false,
     "tableResultSettingsMap": {},
     "title": ""
    }
   },
   "outputs": [],
   "source": [
    "import requests\n",
    "import pandas as pd\n",
    "import re\n",
    "from datetime import datetime \n",
    "from pyspark.sql import SparkSession\n",
    "from pyspark.sql import functions as F\n",
    "from pyspark.sql.types import StructType, StructField, StringType, MapType\n",
    "# Your Instagram Business Account User ID and long-lived access token\n",
    "\n",
    "# The hashtag you want to search for (without the '#' symbol)\n",
    "HASHTAG = 'macav'  # Replace with your desired hashtag (without the '#')\n",
    "INSTAGRAM_USER_ID = '17841472712121977'\n",
    "ACCESS_TOKEN = dbutils.secrets.get(scope=\"Scope1\", key=\"InstagramAccessToken\")\n",
    "\n",
    "# Azure Storage credentials\n",
    "storage_account_name = \"macavstorage\"\n",
    "container_name = \"datalake\"\n",
    "servicePrincipalID = \"0b27e0ea-e184-49cd-b921-b3519cb03f7f\"\n",
    "blobsecret = dbutils.secrets.get(scope=\"Scope1\", key=\"blobsecret1\")\n",
    "tenantID = \"60feac79-e042-4ce8-8759-dca313146110\"\n",
    "\n",
    "# Path to the file in Azure Data Lake\n",
    "# Create secret scope at \n",
    "# https://adb-4383697834848777.17.azuredatabricks.net/#secrets/createScope\n",
    "#Scope Name = Scope1\n",
    "#DNS Name = \"https://twitchkv.vault.azure.net/\" (Vault URI)\n",
    "#Resource ID = \"/subscriptions/972ad05f-b62e-48ab-a9fa-a17fd4dc6640/resourceGroups/twitchData/providers/Microsoft.KeyVault/vaults/twitchkv\" (Keyvault resource ID)\n",
    "\n",
    "#Initializing spark-session and adding configurations\n",
    "spark = SparkSession.builder \\\n",
    "    .appName(\"DeltaLakeAzureStorage\") \\\n",
    "    .config(\"spark.sql.extensions\", \"delta.sql.DeltaSparkSessionExtensions\") \\\n",
    "    .config(\"spark.sql.catalog.spark_catalog\", \"org.apache.spark.sql.delta.catalog.DeltaCatalog\") \\\n",
    "    .getOrCreate()\n",
    "\n",
    "#Authenticating Serviceprincipal to access blob storage\n",
    "spark.conf.set(f\"fs.azure.account.auth.type.{storage_account_name}.dfs.core.windows.net\", \"OAuth\")\n",
    "spark.conf.set(f\"fs.azure.account.oauth.provider.type.{storage_account_name}.dfs.core.windows.net\", \n",
    "               \"org.apache.hadoop.fs.azurebfs.oauth2.ClientCredsTokenProvider\")\n",
    "spark.conf.set(f\"fs.azure.account.oauth2.client.id.{storage_account_name}.dfs.core.windows.net\", \n",
    "               servicePrincipalID)\n",
    "spark.conf.set(f\"fs.azure.account.oauth2.client.secret.{storage_account_name}.dfs.core.windows.net\", \n",
    "               blobsecret)\n",
    "spark.conf.set(f\"fs.azure.account.oauth2.client.endpoint.{storage_account_name}.dfs.core.windows.net\", \n",
    "               f\"https://login.microsoftonline.com/{tenantID}/oauth2/token\")"
   ]
  },
  {
   "cell_type": "code",
   "execution_count": 0,
   "metadata": {
    "application/vnd.databricks.v1+cell": {
     "cellMetadata": {
      "byteLimit": 2048000,
      "rowLimit": 10000
     },
     "inputWidgets": {},
     "nuid": "b4028ca8-fb33-40c6-8755-86ea3167efa3",
     "showTitle": false,
     "tableResultSettingsMap": {},
     "title": ""
    }
   },
   "outputs": [],
   "source": [
    "def extract_hashtags(caption):\n",
    "    hashtags = re.findall(r'#\\w+', caption)  # Find all words starting with #\n",
    "    caption_without_hashtags = re.sub(r'#\\w+', '', caption).strip()  # Remove hashtags from caption\n",
    "    return caption_without_hashtags, ' '.join(hashtags)  # Return cleaned caption and joined hashtags"
   ]
  },
  {
   "cell_type": "code",
   "execution_count": 0,
   "metadata": {
    "application/vnd.databricks.v1+cell": {
     "cellMetadata": {
      "byteLimit": 2048000,
      "rowLimit": 10000
     },
     "inputWidgets": {},
     "nuid": "7703906a-96f9-4688-8fca-f68481064447",
     "showTitle": false,
     "tableResultSettingsMap": {},
     "title": ""
    }
   },
   "outputs": [],
   "source": [
    "#GET HASHTAG_ID FOR A CERTAIN HASHTAG\n",
    "\n",
    "url = f\"https://graph.facebook.com/v18.0/ig_hashtag_search\"\n",
    "params = {\n",
    "    \"user_id\": INSTAGRAM_USER_ID,\n",
    "    \"q\": HASHTAG,  # Search for the hashtag\n",
    "    \"access_token\": ACCESS_TOKEN\n",
    "}\n",
    "\n",
    "# Make the API request\n",
    "response = requests.get(url, params=params)\n",
    "\n",
    "# Parse the response JSON to get the hashtag ID\n",
    "hashtag_data = response.json()\n",
    "\n",
    "# Extract the hashtag ID (first result)\n",
    "hashtag_id = hashtag_data.get(\"data\", [{}])[0].get(\"id\", None)\n",
    "\n",
    "print(\"Hashtag ID:\", hashtag_id)"
   ]
  },
  {
   "cell_type": "code",
   "execution_count": 0,
   "metadata": {
    "application/vnd.databricks.v1+cell": {
     "cellMetadata": {
      "byteLimit": 2048000,
      "rowLimit": 10000
     },
     "inputWidgets": {},
     "nuid": "1e880550-2761-46a9-9242-9c34d343dcc6",
     "showTitle": false,
     "tableResultSettingsMap": {},
     "title": ""
    }
   },
   "outputs": [],
   "source": [
    "\n",
    "# Request URL to get media for the hashtag ID\n",
    "media_url = f\"https://graph.facebook.com/v18.0/{hashtag_id}/recent_media\"\n",
    "params = {\n",
    "    \"user_id\": INSTAGRAM_USER_ID,\n",
    "    \"fields\": \"id,caption,media_type,media_url,permalink,timestamp\",  # Removed owner field\n",
    "    \"access_token\": ACCESS_TOKEN\n",
    "}\n",
    "\n",
    "# Make the API request to get the media\n",
    "response = requests.get(media_url, params=params)\n",
    "print(response)\n",
    "# Check if the response is successful\n",
    "if response.status_code == 200:\n",
    "    # Parse the response JSON\n",
    "    media_data = response.json()\n",
    "\n",
    "    # Initialize the media list\n",
    "    media_list = []\n",
    "\n",
    "    # Loop through each media item in the response data\n",
    "    for media in media_data.get(\"data\", []):\n",
    "        if media[\"media_type\"] == \"IMAGE\":  # Only include images\n",
    "            caption = media.get(\"caption\", \"No caption\")\n",
    "            cleaned_caption, hashtags = extract_hashtags(caption)  # Split caption and hashtags\n",
    "\n",
    "            post_info = {\n",
    "                \"id\": media[\"id\"],\n",
    "                \"caption\": cleaned_caption,  # Caption without hashtags\n",
    "                \"hashtags\": hashtags,  # Extracted hashtags\n",
    "                \"media_type\": media[\"media_type\"],\n",
    "                \"media_url\": media.get(\"media_url\", \"No URL\"),\n",
    "                \"permalink\": media[\"permalink\"],\n",
    "                \"timestamp\": media[\"timestamp\"],\n",
    "                \"like_count\": 0  # Placeholder for like count\n",
    "            }\n",
    "\n",
    "        # Now fetch the like count for the specific media ID\n",
    "        media_id = media['id']\n",
    "        like_count_url = f\"https://graph.facebook.com/v18.0/{media_id}\"\n",
    "        like_count_params = {\n",
    "            \"fields\": \"like_count\",  # Request the like_count field along with the media ID\n",
    "            \"access_token\": ACCESS_TOKEN\n",
    "        }\n",
    "\n",
    "        # Make the API request to get the like count\n",
    "        like_response = requests.get(like_count_url, params=like_count_params)\n",
    "\n",
    "        if like_response.status_code == 200:\n",
    "            like_data = like_response.json()\n",
    "            # Update the post_info with the like count\n",
    "            post_info['like_count'] = like_data.get('like_count', 0)\n",
    "        else:\n",
    "            print(f\"Error fetching like count for Media ID: {media_id}, Status Code: {like_response.status_code}\")\n",
    "\n",
    "        # Append the structured media information to the media list\n",
    "        media_list.append(post_info)\n",
    "        \n",
    "    api_completed_timestamp = datetime.utcnow().isoformat() \n",
    "    # Create a pandas DataFrame from the media list\n",
    "    media_df = pd.DataFrame(media_list)\n",
    "    media_df[\"latest_query_completed_timestamp\"] = api_completed_timestamp\n",
    "\n",
    "    # Display the DataFrame (if in Jupyter, this will render as a nice table)\n",
    "    print(media_df)\n",
    "\n",
    "else:\n",
    "    print(f\"Error: {response.status_code} - {response.text}\")\n"
   ]
  },
  {
   "cell_type": "code",
   "execution_count": 0,
   "metadata": {
    "application/vnd.databricks.v1+cell": {
     "cellMetadata": {
      "byteLimit": 2048000,
      "rowLimit": 10000
     },
     "inputWidgets": {},
     "nuid": "eb29a924-6eac-4dab-8199-96148578bcbe",
     "showTitle": false,
     "tableResultSettingsMap": {},
     "title": ""
    }
   },
   "outputs": [],
   "source": [
    "spark_df = spark.createDataFrame(media_df)"
   ]
  },
  {
   "cell_type": "code",
   "execution_count": 0,
   "metadata": {
    "application/vnd.databricks.v1+cell": {
     "cellMetadata": {
      "byteLimit": 2048000,
      "rowLimit": 10000
     },
     "inputWidgets": {},
     "nuid": "c634a566-3c2c-4b79-a629-4cde0eae42ad",
     "showTitle": false,
     "tableResultSettingsMap": {},
     "title": ""
    }
   },
   "outputs": [],
   "source": [
    "spark_df.write \\\n",
    "    .format(\"delta\") \\\n",
    "    .mode(\"overwrite\") \\\n",
    "    .save(f\"abfss://{container_name}@{storage_account_name}.dfs.core.windows.net/datalake/instagram_data\")"
   ]
  }
 ],
 "metadata": {
  "application/vnd.databricks.v1+notebook": {
   "computePreferences": null,
   "dashboards": [],
   "environmentMetadata": {
    "base_environment": "",
    "environment_version": "2"
   },
   "inputWidgetPreferences": null,
   "language": "python",
   "notebookMetadata": {
    "pythonIndentUnit": 4
   },
   "notebookName": "Get Instagram Data and write to Datalake",
   "widgets": {}
  },
  "language_info": {
   "name": "python"
  }
 },
 "nbformat": 4,
 "nbformat_minor": 0
}
