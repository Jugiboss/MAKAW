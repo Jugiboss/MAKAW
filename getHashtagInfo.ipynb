{
 "cells": [
  {
   "cell_type": "code",
   "execution_count": 5,
   "id": "6e5bad95",
   "metadata": {},
   "outputs": [
    {
     "name": "stdout",
     "output_type": "stream",
     "text": [
      "Pages Data: {'data': []}\n"
     ]
    }
   ],
   "source": [
    "import requests\n",
    "\n",
    "ACCESS_TOKEN = \"EAANoZCe4Hve0BOZCKZAKRru6ZAFoIHfsZCPjRjAaF33rsiYqPGSLDsRzWs72rkkfNutixXieHZBHlfb8ZB0KozlefDGw6VZAJ6lTm84RrpqrsCQHzvZAEAQhGcZBDPYUpT3jJHYdOoo99j73AhbghA4LdhQESrMdGZAjONjI7dKp8jQePM0IFlZCtzcCPY76LmFh75w0vZBM8ZBeCdX6uefEgabcDG4Lz3pt6nnepzZAfrYM1bHnCZAPZBf4WJwZDZD\"\n",
    "\n",
    "# Get Facebook Pages linked to the user\n",
    "url = \"https://graph.facebook.com/v18.0/me/accounts\"\n",
    "params = {\"access_token\": ACCESS_TOKEN}\n",
    "\n",
    "response = requests.get(url, params=params)\n",
    "pages_data = response.json()\n",
    "\n",
    "print(\"Pages Data:\", pages_data)  # Check the response\n",
    "\n",
    "# Extract the Page ID\n",
    "#PAGE_ID = pages_data0]\n",
    "\n",
    "# Get Instagram Business Account ID\n",
    "#insta_url = f\"https://graph.facebook.com/v18.0/{PAGE_ID}?fields=instagram_business_account\"\n",
    "#response = requests.get(insta_url, params={\"access_token\": ACCESS_TOKEN})\n",
    "#insta_data = response.json()\n",
    "\n",
    "#INSTAGRAM_USER_ID = insta_data[\"instagram_business_account\"][\"id\"]\n",
    "#print(\"Instagram User ID:\", INSTAGRAM_USER_ID)"
   ]
  },
  {
   "cell_type": "code",
   "execution_count": 7,
   "id": "7be72866",
   "metadata": {},
   "outputs": [
    {
     "name": "stdout",
     "output_type": "stream",
     "text": [
      "Pages Data: {'data': []}\n"
     ]
    }
   ],
   "source": [
    "import requests\n",
    "\n",
    "ACCESS_TOKEN = \"EAANoZCe4Hve0BOZCKZAKRru6ZAFoIHfsZCPjRjAaF33rsiYqPGSLDsRzWs72rkkfNutixXieHZBHlfb8ZB0KozlefDGw6VZAJ6lTm84RrpqrsCQHzvZAEAQhGcZBDPYUpT3jJHYdOoo99j73AhbghA4LdhQESrMdGZAjONjI7dKp8jQePM0IFlZCtzcCPY76LmFh75w0vZBM8ZBeCdX6uefEgabcDG4Lz3pt6nnepzZAfrYM1bHnCZAPZBf4WJwZDZD\"\n",
    "\n",
    "url = \"https://graph.facebook.com/v18.0/me/accounts\"\n",
    "params = {\"access_token\": ACCESS_TOKEN}\n",
    "\n",
    "response = requests.get(url, params=params)\n",
    "pages_data = response.json()\n",
    "\n",
    "print(\"Pages Data:\", pages_data)  # Expect a list of pages\n"
   ]
  },
  {
   "cell_type": "code",
   "execution_count": 10,
   "id": "d73c04c0",
   "metadata": {},
   "outputs": [
    {
     "name": "stdout",
     "output_type": "stream",
     "text": [
      "Pages Data: {'data': []}\n"
     ]
    }
   ],
   "source": [
    "url = \"https://graph.facebook.com/v18.0/me/accounts\"\n",
    "params = {\n",
    "    \"access_token\": \"EAANoZCe4Hve0BOZCKZAKRru6ZAFoIHfsZCPjRjAaF33rsiYqPGSLDsRzWs72rkkfNutixXieHZBHlfb8ZB0KozlefDGw6VZAJ6lTm84RrpqrsCQHzvZAEAQhGcZBDPYUpT3jJHYdOoo99j73AhbghA4LdhQESrMdGZAjONjI7dKp8jQePM0IFlZCtzcCPY76LmFh75w0vZBM8ZBeCdX6uefEgabcDG4Lz3pt6nnepzZAfrYM1bHnCZAPZBf4WJwZDZD\",\n",
    "}\n",
    "response = requests.get(url, params=params)\n",
    "pages_data = response.json()\n",
    "\n",
    "print(\"Pages Data:\", pages_data)"
   ]
  },
  {
   "cell_type": "code",
   "execution_count": null,
   "id": "7fc8e85f",
   "metadata": {},
   "outputs": [],
   "source": [
    "import requests\n",
    "\n",
    "ACCESS_TOKEN = \"EAANoZCe4Hve0BOZCKZAKRru6ZAFoIHfsZCPjRjAaF33rsiYqPGSLDsRzWs72rkkfNutixXieHZBHlfb8ZB0KozlefDGw6VZAJ6lTm84RrpqrsCQHzvZAEAQhGcZBDPYUpT3jJHYdOoo99j73AhbghA4LdhQESrMdGZAjONjI7dKp8jQePM0IFlZCtzcCPY76LmFh75w0vZBM8ZBeCdX6uefEgabcDG4Lz3pt6nnepzZAfrYM1bHnCZAPZBf4WJwZDZD\"\n",
    "INSTAGRAM_USER_ID = \"your_instagram_user_id\"  # From previous steps\n",
    "HASHTAG = \"coding\"  # Replace with your desired hashtag\n",
    "\n",
    "# Search for the hashtag ID\n",
    "hashtag_search_url = f\"https://graph.facebook.com/v18.0/ig_hashtag_search\"\n",
    "params = {\n",
    "    \"user_id\": INSTAGRAM_USER_ID,\n",
    "    \"q\": HASHTAG,  \n",
    "    \"access_token\": ACCESS_TOKEN\n",
    "}\n",
    "\n",
    "response = requests.get(hashtag_search_url, params=params)\n",
    "hashtag_data = response.json()\n",
    "\n",
    "# Extract Hashtag ID\n",
    "HASHTAG_ID = hashtag_data.get(\"data\", [{}])[0].get(\"id\")\n",
    "print(\"Hashtag ID:\", HASHTAG_ID)"
   ]
  },
  {
   "cell_type": "code",
   "execution_count": 18,
   "id": "3a3ead6e",
   "metadata": {},
   "outputs": [
    {
     "name": "stdout",
     "output_type": "stream",
     "text": [
      "Instagram User ID: None\n"
     ]
    }
   ],
   "source": [
    "import requests\n",
    "\n",
    "ACCESS_TOKEN = \"EAANoZCe4Hve0BO8azKAFBQZAY5XCoQdAJNOZCXQYNMABVJZCXnZBn8zlZAqdaPnLger9NkGPlM8XzGZBF2QMY2MjOvyZC7L7xamlNUK60dSZA0uBWBZCkK7tZA33lp1NE5cXTJAFvSQoBXVoFmEPGFwUJl6vfDcwQxzgBLthFhfKZAN2yHzWWThnoQPFbZC9lSM6Kaal9jHe5wZCeN3Kw0smLjwDn0nH5kMgZDZD\"\n",
    "BUSINESS_ID = \"17841472712121977\"  # Your newly obtained Business ID\n",
    "\n",
    "# Get Instagram Business Account ID\n",
    "insta_url = f\"https://graph.facebook.com/v18.0/{BUSINESS_ID}?fields=instagram_business_account\"\n",
    "params = {\n",
    "    \"access_token\": ACCESS_TOKEN\n",
    "}\n",
    "\n",
    "response = requests.get(insta_url, params=params)\n",
    "insta_data = response.json()\n",
    "\n",
    "INSTAGRAM_USER_ID = insta_data.get(\"instagram_business_account\", {}).get(\"id\")\n",
    "print(\"Instagram User ID:\", INSTAGRAM_USER_ID)"
   ]
  },
  {
   "cell_type": "code",
   "execution_count": null,
   "id": "6b9e58cf",
   "metadata": {},
   "outputs": [],
   "source": []
  },
  {
   "cell_type": "code",
   "execution_count": 12,
   "id": "48b9a7a9",
   "metadata": {},
   "outputs": [
    {
     "name": "stdout",
     "output_type": "stream",
     "text": [
      "Media Data: {'error': {'message': \"Unsupported get request. Object with ID '17841472712121977' does not exist, cannot be loaded due to missing permissions, or does not support this operation. Please read the Graph API documentation at https://developers.facebook.com/docs/graph-api\", 'type': 'GraphMethodException', 'code': 100, 'error_subcode': 33, 'fbtrace_id': 'AcZ0UGYH4EfOG9NrRuEdx9N'}}\n"
     ]
    }
   ],
   "source": [
    "import requests\n",
    "\n",
    "INSTAGRAM_USER_ID = \"17841472712121977\"  # Your Instagram User ID\n",
    "ACCESS_TOKEN = \"EAANoZCe4Hve0BOZCKZAKRru6ZAFoIHfsZCPjRjAaF33rsiYqPGSLDsRzWs72rkkfNutixXieHZBHlfb8ZB0KozlefDGw6VZAJ6lTm84RrpqrsCQHzvZAEAQhGcZBDPYUpT3jJHYdOoo99j73AhbghA4LdhQESrMdGZAjONjI7dKp8jQePM0IFlZCtzcCPY76LmFh75w0vZBM8ZBeCdX6uefEgabcDG4Lz3pt6nnepzZAfrYM1bHnCZAPZBf4WJwZDZD\"  # Your long-lived access token\n",
    "\n",
    "media_url = f\"https://graph.facebook.com/v18.0/{INSTAGRAM_USER_ID}/media\"\n",
    "params = {\n",
    "    \"fields\": \"id,caption,media_type,media_url,permalink,timestamp\",  # Media details\n",
    "    \"access_token\": ACCESS_TOKEN\n",
    "}\n",
    "\n",
    "response = requests.get(media_url, params=params)\n",
    "media_data = response.json()\n",
    "\n",
    "# Print the media data\n",
    "print(\"Media Data:\", media_data)\n"
   ]
  },
  {
   "cell_type": "code",
   "execution_count": 15,
   "id": "629f21d2",
   "metadata": {},
   "outputs": [
    {
     "name": "stdout",
     "output_type": "stream",
     "text": [
      "Media Data: {'error': {'message': \"Unsupported get request. Object with ID '17841472712121977' does not exist, cannot be loaded due to missing permissions, or does not support this operation. Please read the Graph API documentation at https://developers.facebook.com/docs/graph-api\", 'type': 'GraphMethodException', 'code': 100, 'error_subcode': 33, 'fbtrace_id': 'A_ZKXS6EgWMDgyn5cPwkZZe'}}\n"
     ]
    }
   ],
   "source": [
    "import requests\n",
    "\n",
    "INSTAGRAM_USER_ID = \"17841472712121977\"  # Your Instagram User ID\n",
    "ACCESS_TOKEN = \"EAANoZCe4Hve0BOzZBrCQS33guS9or1KnMkRBoj88ZCd368ch5OTw1RNQwZCeP95L8UhlIjjpgbpmpXZBgSoVTARzXY8qvQU9MGW19GAeBDuEXIpnLimSAHZBoNNLMmvP0RY63GIxmI1oNqW7WcYqob5dtXwsY2aZC4j5cmZAlB5FH8Do8RDznh2w9fNzm31daTjAurKWmr4ayDaA5sIG0P7voFvr\"  # Your long-lived access token\n",
    "\n",
    "media_url = f\"https://graph.facebook.com/v18.0/{INSTAGRAM_USER_ID}/media\"\n",
    "params = {\n",
    "    \"fields\": \"id,caption,media_type,media_url,permalink,timestamp\",  # Media details\n",
    "    \"access_token\": ACCESS_TOKEN\n",
    "}\n",
    "\n",
    "response = requests.get(media_url, params=params)\n",
    "media_data = response.json()\n",
    "\n",
    "# Print the media data\n",
    "print(\"Media Data:\", media_data)"
   ]
  },
  {
   "cell_type": "code",
   "execution_count": 19,
   "id": "fab753bb",
   "metadata": {},
   "outputs": [
    {
     "name": "stdout",
     "output_type": "stream",
     "text": [
      "Instagram User ID: 17841472712121977\n"
     ]
    }
   ],
   "source": [
    "import requests\n",
    "\n",
    "PAGE_ID = \"564790136719706\"  # Replace with your actual Facebook Page ID\n",
    "ACCESS_TOKEN = \"EAANoZCe4Hve0BOzZBrCQS33guS9or1KnMkRBoj88ZCd368ch5OTw1RNQwZCeP95L8UhlIjjpgbpmpXZBgSoVTARzXY8qvQU9MGW19GAeBDuEXIpnLimSAHZBoNNLMmvP0RY63GIxmI1oNqW7WcYqob5dtXwsY2aZC4j5cmZAlB5FH8Do8RDznh2w9fNzm31daTjAurKWmr4ayDaA5sIG0P7voFvr\"  # Your long-lived access token\n",
    "\n",
    "# Get Instagram Business Account ID linked to the Page\n",
    "url = f\"https://graph.facebook.com/v18.0/{PAGE_ID}?fields=instagram_business_account\"\n",
    "params = {\n",
    "    \"access_token\": ACCESS_TOKEN\n",
    "}\n",
    "\n",
    "response = requests.get(url, params=params)\n",
    "insta_data = response.json()\n",
    "\n",
    "# Get Instagram Business Account ID\n",
    "INSTAGRAM_USER_ID = insta_data.get(\"instagram_business_account\", {}).get(\"id\")\n",
    "print(\"Instagram User ID:\", INSTAGRAM_USER_ID)\n"
   ]
  },
  {
   "cell_type": "code",
   "execution_count": 30,
   "id": "638b618b",
   "metadata": {},
   "outputs": [
    {
     "name": "stdout",
     "output_type": "stream",
     "text": [
      "Recent Media: {'data': [{'id': '18034496246531367', 'caption': '#makawai #makaw #testmakaw', 'media_type': 'IMAGE', 'media_url': 'https://scontent.cdninstagram.com/v/t51.75761-15/479699534_17844940179423738_912130121077413648_n.jpg?stp=dst-jpg_e35_tt6&_nc_cat=108&ccb=1-7&_nc_sid=18de74&_nc_ohc=4mFg7MvLXDIQ7kNvgEEpfVj&_nc_oc=AdjDFg-NUaQidvlVbxkKpYnOa0p4Ryr8Ysd72Aj3O7JvtBnBhI8Zycfhl4mUOc-cmKZ2yZd5Jx8j-_egFoHRiQcc&_nc_zt=23&_nc_ht=scontent.cdninstagram.com&edm=AM6HXa8EAAAA&_nc_gid=AsYHMGmnKnMYdqKXeXfWp-Z&oh=00_AYC01iRaWpFCjAaB3cuhKMum7qUZ2clCQK1HSzzYJbFxAA&oe=67BCDBA8', 'permalink': 'https://www.instagram.com/p/DGSg8l7OR-_/', 'timestamp': '2025-02-20T09:17:17+0000'}, {'id': '18090093601497188', 'caption': '#makawai #makaw #testmakaw', 'media_type': 'IMAGE', 'media_url': 'https://scontent.cdninstagram.com/v/t51.75761-15/480256637_17844936648423738_7293069225584055248_n.jpg?stp=dst-jpg_e35_tt6&_nc_cat=101&ccb=1-7&_nc_sid=18de74&_nc_ohc=DSyxyJvzECMQ7kNvgFQanw2&_nc_oc=AdiSPH2DNBnqUbP0oKIohuVmh2Nnecrg-PYLKCP0RtSlm4_UNK4W_fh-GY-XTmf3HSzK_LN3XoPeDC_d4tZGqhzT&_nc_zt=23&_nc_ht=scontent.cdninstagram.com&edm=AM6HXa8EAAAA&_nc_gid=AsYHMGmnKnMYdqKXeXfWp-Z&oh=00_AYDAYtkndJmoim9y12Bkagh2WqkEqDElL5ptsDLT7Nq0rg&oe=67BCD29F', 'permalink': 'https://www.instagram.com/p/DGSeehqOxi5/', 'timestamp': '2025-02-20T08:55:42+0000'}], 'paging': {'cursors': {'before': 'QVFIUnRjTWxteTZABRTRDbWJBRjdVeHktZAS1xaFFabGNJcGM3UEowLTZABajBlRUdOVS1RYmRka1dsSXZAWRU1CMnBFZA2VRMHVjRHlWallRX3pLLXBHUTNhWWh3', 'after': 'QVFIUm9VTzF6QlJGdi1IWXdyblZApZAktXbkM5bi0xTVl5TEJUNkNaOVhkSFg3bGZA0R2VIdEM4UnhOMUNFRllMYU54aFNBSm9YMEVxOW5IOXdfMzZADc3lnODFR'}}}\n"
     ]
    }
   ],
   "source": [
    "import requests\n",
    "\n",
    "# Your Instagram User ID and long-lived access token\n",
    "INSTAGRAM_USER_ID = '17841472712121977'  # Replace with your Instagram User ID\n",
    "ACCESS_TOKEN = 'EAANoZCe4Hve0BO3V2FV20XmcUit6x3eVbHJeMLpZCAnGYJj7aI7YAjWcZBnlOHG4sAxznIO4meNtnzqtINEbTTq2nepXwPugRXKdZBK5XMGCSE0cqB53NCZC4x581OY60WHkaTm6PCisli8fsxYDDUMjtRJbLlaiSAVNZCRlbPzBGNEZARKjQfLtH6SDXSTcwMCUl2hqaK3QGTToPy3B4upZC1k5'  # Replace with your long-lived access token\n",
    "\n",
    "# Request URL to get recent media\n",
    "url = f\"https://graph.facebook.com/v18.0/{INSTAGRAM_USER_ID}/media\"\n",
    "params = {\n",
    "    \"fields\": \"id,caption,media_type,media_url,permalink,timestamp\",  # Adjust fields as needed\n",
    "    \"access_token\": ACCESS_TOKEN\n",
    "}\n",
    "\n",
    "# Make the API request\n",
    "response = requests.get(url, params=params)\n",
    "\n",
    "# Parse the response JSON\n",
    "media_data = response.json()\n",
    "\n",
    "# Print the media data\n",
    "print(\"Recent Media:\", media_data)"
   ]
  },
  {
   "cell_type": "code",
   "execution_count": 23,
   "id": "2b64bfba",
   "metadata": {
    "scrolled": true
   },
   "outputs": [
    {
     "name": "stdout",
     "output_type": "stream",
     "text": [
      "Like Count: 1\n"
     ]
    }
   ],
   "source": []
  },
  {
   "cell_type": "code",
   "execution_count": 49,
   "id": "129ca333",
   "metadata": {},
   "outputs": [
    {
     "name": "stdout",
     "output_type": "stream",
     "text": [
      "Hashtag ID: 17841562030128143\n"
     ]
    }
   ],
   "source": [
    "#GET HASHTAG ID FOR A CERTAIN HASHTAG\n",
    "\n",
    "# Your Instagram Business Account User ID and long-lived access token\n",
    "\n",
    "# The hashtag you want to search for (without the '#' symbol)\n",
    "HASHTAG = 'makaw'  # Replace with your desired hashtag (without the '#')\n",
    "INSTAGRAM_USER_ID = '17841472712121977'\n",
    "ACCESS_TOKEN = 'EAANoZCe4Hve0BO7tgpQ0ZCEqguDJ9CfO2fKKC9e2vdMXXRmDbAn1pxUMpQD5mPxdVmrprcluYTmwnAlLY8vpFWEZBzsOkkotHRuZCt8DJ1j2mweAY2uq8jTel8p7fyNJGhUhkel8zglOwJXm7frbDLXqOPWmVOtBJWJp5VR4umesdGbyQgsZCKbZCd5Gk4M1vGqZBp2ASnmB7fj2WRX9wbnPZCha'\n",
    "# Request URL to get the hashtag ID\n",
    "url = f\"https://graph.facebook.com/v18.0/ig_hashtag_search\"\n",
    "params = {\n",
    "    \"user_id\": INSTAGRAM_USER_ID,\n",
    "    \"q\": HASHTAG,  # Search for the hashtag\n",
    "    \"access_token\": ACCESS_TOKEN\n",
    "}\n",
    "\n",
    "# Make the API request\n",
    "response = requests.get(url, params=params)\n",
    "\n",
    "# Parse the response JSON to get the hashtag ID\n",
    "hashtag_data = response.json()\n",
    "\n",
    "# Extract the hashtag ID (first result)\n",
    "hashtag_id = hashtag_data.get(\"data\", [{}])[0].get(\"id\", None)\n",
    "\n",
    "print(\"Hashtag ID:\", hashtag_id)"
   ]
  },
  {
   "cell_type": "code",
   "execution_count": 64,
   "id": "5f756cb3",
   "metadata": {},
   "outputs": [
    {
     "name": "stdout",
     "output_type": "stream",
     "text": [
      "<Response [400]>\n",
      "No public media found for this hashtag.\n"
     ]
    }
   ],
   "source": []
  },
  {
   "cell_type": "code",
   "execution_count": 69,
   "id": "9e04b82d",
   "metadata": {},
   "outputs": [
    {
     "name": "stdout",
     "output_type": "stream",
     "text": [
      "<Response [200]>\n",
      "[{'id': '18034496246531367', 'caption': '#makawai #makaw #testmakaw', 'media_type': 'IMAGE', 'media_url': 'https://scontent.cdninstagram.com/v/t51.75761-15/479699534_17844940179423738_912130121077413648_n.jpg?stp=dst-jpg_e35_tt6&_nc_cat=108&ccb=1-7&_nc_sid=18de74&_nc_ohc=4mFg7MvLXDIQ7kNvgEEpfVj&_nc_oc=AdjDFg-NUaQidvlVbxkKpYnOa0p4Ryr8Ysd72Aj3O7JvtBnBhI8Zycfhl4mUOc-cmKZ2yZd5Jx8j-_egFoHRiQcc&_nc_zt=23&_nc_ht=scontent.cdninstagram.com&edm=AEoDcc0EAAAA&_nc_gid=A268GWiVvW9y5Rlx20oyLUy&oh=00_AYAn3WohcGWa1rvjUqByoICOsNYckUQ0nCmQzP5ANnXb_w&oe=67BCDBA8', 'permalink': 'https://www.instagram.com/p/DGSg8l7OR-_/', 'timestamp': '2025-02-20T09:17:17+0000', 'like_count': 0}, {'id': '18090093601497188', 'caption': '#makawai #makaw #testmakaw', 'media_type': 'IMAGE', 'media_url': 'https://scontent.cdninstagram.com/v/t51.75761-15/480256637_17844936648423738_7293069225584055248_n.jpg?stp=dst-jpg_e35_tt6&_nc_cat=101&ccb=1-7&_nc_sid=18de74&_nc_ohc=DSyxyJvzECMQ7kNvgFQanw2&_nc_oc=AdiSPH2DNBnqUbP0oKIohuVmh2Nnecrg-PYLKCP0RtSlm4_UNK4W_fh-GY-XTmf3HSzK_LN3XoPeDC_d4tZGqhzT&_nc_zt=23&_nc_ht=scontent.cdninstagram.com&edm=AEoDcc0EAAAA&_nc_gid=A268GWiVvW9y5Rlx20oyLUy&oh=00_AYAMWjS19ZVQTJHVdDii7VI0ferLShwNeJ13lsGFQARqNw&oe=67BCD29F', 'permalink': 'https://www.instagram.com/p/DGSeehqOxi5/', 'timestamp': '2025-02-20T08:55:42+0000', 'like_count': 0}]\n"
     ]
    }
   ],
   "source": [
    "# Request URL to get media for the hashtag ID\n",
    "hashtag_id = \"17841562030128143\"\n",
    "media_url = f\"https://graph.facebook.com/v18.0/{hashtag_id}/recent_media\"\n",
    "params = {\n",
    "    \"user_id\": INSTAGRAM_USER_ID,\n",
    "    \"fields\": \"id,caption,media_type,media_url,permalink,timestamp\",  # Specify the fields you want\n",
    "    \"access_token\": ACCESS_TOKEN\n",
    "}\n",
    "\n",
    "# Make the API request to get the media\n",
    "response = requests.get(media_url, params=params)\n",
    "print(response)\n",
    "# Parse the response JSON\n",
    "media_data = response.json()\n",
    "media_list = []\n",
    "for media in media_data.get(\"data\", []):\n",
    "    post_info = {\n",
    "        \"id\": media['id'],\n",
    "        \"caption\": media.get('caption', 'No caption'),\n",
    "        \"media_type\": media['media_type'],\n",
    "        \"media_url\": media.get('media_url', 'No URL'),\n",
    "        \"permalink\": media['permalink'],\n",
    "        \"timestamp\": media['timestamp'],\n",
    "        \"like_count\": 0  # Placeholder for like count, will be updated later\n",
    "    }\n",
    "    media_list.append(post_info)\n",
    "\n",
    "print(media_list)\n",
    "# Print the media data\n",
    "#for media in media_data.get(\"data\", []):\n",
    " #   print(f\"ID: {media['id']}\")\n",
    "   # print(f\"Caption: {media.get('caption', 'No caption')}\")\n",
    "  #  print(f\"Media Type: {media['media_type']}\")\n",
    "    #print(f\"Media URL: {media['media_url']}\")\n",
    "    #print(f\"Permalink: {media['permalink']}\")\n",
    "  #  print(f\"Timestamp: {media['timestamp']}\")\n",
    "  #  print(\"-\" * 40)"
   ]
  },
  {
   "cell_type": "code",
   "execution_count": 70,
   "id": "74ebd90e",
   "metadata": {},
   "outputs": [
    {
     "name": "stdout",
     "output_type": "stream",
     "text": [
      "['18034496246531367', '18090093601497188']\n"
     ]
    }
   ],
   "source": [
    "# Filter the media to include only posts with the media type \"IMAGE\"\n",
    "image_posts = [media for media in media_list if media['media_type'] == 'IMAGE']\n",
    "\n",
    "# Extract the IDs of the filtered posts\n",
    "post_ids = [media['id'] for media in image_posts]\n",
    "\n",
    "# Print the list of IDs\n",
    "print(post_ids)"
   ]
  },
  {
   "cell_type": "code",
   "execution_count": 68,
   "id": "e16671d7",
   "metadata": {},
   "outputs": [
    {
     "name": "stdout",
     "output_type": "stream",
     "text": [
      "<Response [400]>\n",
      "{'error': {'message': \"Unsupported get request. Object with ID '18483362290031612' does not exist, cannot be loaded due to missing permissions, or does not support this operation. Please read the Graph API documentation at https://developers.facebook.com/docs/graph-api\", 'type': 'GraphMethodException', 'code': 100, 'error_subcode': 33, 'fbtrace_id': 'A-uKVPl7qcGnW179mYFZocd'}}\n",
      "Like Count: 0\n"
     ]
    }
   ],
   "source": [
    "#GET LIKE COUNTS FROM A CERTAIN MEDIA\n",
    "import requests\n",
    "\n",
    "# Your Instagram User ID and long-lived access token\n",
    "INSTAGRAM_USER_ID = '17841472712121977'  # Replace with your Instagram User ID\n",
    "ACCESS_TOKEN = 'EAANoZCe4Hve0BO7tgpQ0ZCEqguDJ9CfO2fKKC9e2vdMXXRmDbAn1pxUMpQD5mPxdVmrprcluYTmwnAlLY8vpFWEZBzsOkkotHRuZCt8DJ1j2mweAY2uq8jTel8p7fyNJGhUhkel8zglOwJXm7frbDLXqOPWmVOtBJWJp5VR4umesdGbyQgsZCKbZCd5Gk4M1vGqZBp2ASnmB7fj2WRX9wbnPZCha'  # Replace with your long-lived access token\n",
    "\n",
    "# The media ID of the post you want to fetch the like count for\n",
    "MEDIA_ID = '18483362290031612'  # Replace with the specific media ID\n",
    "\n",
    "# Request URL to get media details including like count\n",
    "url = f\"https://graph.facebook.com/v18.0/{MEDIA_ID}\"\n",
    "params = {\n",
    "    \"fields\": \"id,like_count\",  # Request the like_count field along with the media ID\n",
    "    \"access_token\": ACCESS_TOKEN\n",
    "}\n",
    "\n",
    "# Make the API request\n",
    "response = requests.get(url, params=params)\n",
    "print(response)\n",
    "# Parse the response JSON\n",
    "media_data = response.json()\n",
    "print(media_data)\n",
    "# Get the like count\n",
    "like_count = media_data.get(\"like_count\", 0)  # Default to 0 if no like_count is available\n",
    "\n",
    "# Print the like count\n",
    "print(\"Like Count:\", like_count)"
   ]
  },
  {
   "cell_type": "code",
   "execution_count": 71,
   "id": "6c8433f3",
   "metadata": {},
   "outputs": [
    {
     "name": "stdout",
     "output_type": "stream",
     "text": [
      "Fetching like count for media ID: 18034496246531367\n",
      "Media ID: 18034496246531367 - Like Count: 0\n",
      "----------------------------------------\n",
      "Fetching like count for media ID: 18090093601497188\n",
      "Media ID: 18090093601497188 - Like Count: 1\n",
      "----------------------------------------\n"
     ]
    }
   ],
   "source": [
    "image_posts = [media for media in media_list if media['media_type'] == 'IMAGE']\n",
    "\n",
    "# Loop through the filtered posts and fetch the like count for each post\n",
    "for media in image_posts:\n",
    "    media_id = media['id']\n",
    "    print(f\"Fetching like count for media ID: {media_id}\")\n",
    "    \n",
    "    # Request URL to get media details including like count\n",
    "    media_url = f\"https://graph.facebook.com/v18.0/{media_id}\"\n",
    "    params = {\n",
    "        \"fields\": \"id,like_count\",  # Request the like_count field along with the media ID\n",
    "        \"access_token\": ACCESS_TOKEN\n",
    "    }\n",
    "    \n",
    "    # Make the API request\n",
    "    response = requests.get(media_url, params=params)\n",
    "    \n",
    "    # Parse the response JSON\n",
    "    media_data = response.json()\n",
    "\n",
    "    # Check if the 'like_count' field exists in the response\n",
    "    if 'like_count' in media_data:\n",
    "        like_count = media_data['like_count']\n",
    "        print(f\"Media ID: {media_id} - Like Count: {like_count}\")\n",
    "    else:\n",
    "        print(f\"Error fetching like count for Media ID: {media_id}. Response: {media_data}\")\n",
    "    \n",
    "    print(\"-\" * 40)"
   ]
  },
  {
   "cell_type": "code",
   "execution_count": 34,
   "id": "d875fbea",
   "metadata": {},
   "outputs": [],
   "source": [
    "import requests\n",
    "\n",
    "# Your Instagram User ID and long-lived access token\n",
    "INSTAGRAM_USER_ID = 'your_instagram_user_id'  # Replace with your Instagram User ID\n",
    "ACCESS_TOKEN = 'your_long_lived_access_token'  # Replace with your long-lived access token\n",
    "\n",
    "# Hashtag ID you want to get media for\n",
    "hashtag_id = \"17841562498105353\"  # Replace with the actual hashtag ID\n",
    "\n",
    "# Request URL to get media for the hashtag ID with limit=10\n",
    "media_url = f\"https://graph.facebook.com/v18.0/{hashtag_id}/recent_media\"\n",
    "params = {\n",
    "    \"user_id\": INSTAGRAM_USER_ID,\n",
    "    \"fields\": \"id,caption,media_type,media_url,permalink,timestamp\",  # Specify the fields you want\n",
    "    \"access_token\": ACCESS_TOKEN,\n",
    "    \"limit\": 10  # Limit to 10 posts\n",
    "}\n",
    "\n",
    "# List to store media data\n",
    "media_list = []\n",
    "\n",
    "# Make the API request to get the media\n",
    "response = requests.get(media_url, params=params)\n",
    "\n",
    "# Parse the response JSON\n",
    "media_data = response.json()\n",
    "\n",
    "# Loop through the posts and collect post details in the media_list\n",
    "for media in media_data.get(\"data\", []):\n",
    "    post_info = {\n",
    "        \"id\": media['id'],\n",
    "        \"caption\": media.get('caption', 'No caption'),\n",
    "        \"media_type\": media['media_type'],\n",
    "        \"media_url\": media.get('media_url', 'No URL'),\n",
    "        \"permalink\": media['permalink'],\n",
    "        \"timestamp\": media['timestamp'],\n",
    "        \"like_count\": 0  # Placeholder for like count, will be updated later\n",
    "    }\n",
    "    media_list.append(post_info)\n",
    "\n",
    "# Now that we have the list of posts, let's fetch the like count for each post\n",
    "for post in media_list:\n",
    "    post_id = post['id']\n",
    "    \n",
    "    # Request URL to get like count for each media post\n",
    "    like_count_url = f\"https://graph.facebook.com/v18.0/{post_id}\"\n",
    "    like_count_params = {\n",
    "        \"fields\": \"likes\",  # Requesting like count\n",
    "        \"access_token\": ACCESS_TOKEN\n",
    "    }\n",
    "    \n",
    "    # Make the API request to get the like count\n",
    "    like_response = requests.get(like_count_url, params=like_count_params)\n",
    "    like_data = like_response.json()\n",
    "\n",
    "    # Update the like_count field in the post info\n",
    "    post['like_count'] = like_data.get('likes', {}).get('count', 0)\n",
    "\n",
    "# Print the collected media data along with the like counts\n",
    "for post in media_list:\n",
    "    print(f\"ID: {post['id']}\")\n",
    "    print(f\"Caption: {post['caption']}\")\n",
    "    print(f\"Media Type: {post['media_type']}\")\n",
    "    print(f\"Media URL: {post['media_url']}\")\n",
    "    print(f\"Permalink: {post['permalink']}\")\n",
    "    print(f\"Timestamp: {post['timestamp']}\")\n",
    "    print(f\"Like Count: {post['like_count']}\")\n",
    "    print(\"-\" * 40)\n"
   ]
  }
 ],
 "metadata": {
  "kernelspec": {
   "display_name": "Python 3 (ipykernel)",
   "language": "python",
   "name": "python3"
  },
  "language_info": {
   "codemirror_mode": {
    "name": "ipython",
    "version": 3
   },
   "file_extension": ".py",
   "mimetype": "text/x-python",
   "name": "python",
   "nbconvert_exporter": "python",
   "pygments_lexer": "ipython3",
   "version": "3.9.7"
  }
 },
 "nbformat": 4,
 "nbformat_minor": 5
}
