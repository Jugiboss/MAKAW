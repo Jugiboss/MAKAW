{
 "cells": [
  {
   "cell_type": "code",
   "execution_count": 1,
   "id": "3f959ab3",
   "metadata": {},
   "outputs": [
    {
     "name": "stdout",
     "output_type": "stream",
     "text": [
      "Requirement already satisfied: requests in c:\\users\\joakim\\anaconda3\\lib\\site-packages (2.26.0)\n",
      "Requirement already satisfied: certifi>=2017.4.17 in c:\\users\\joakim\\anaconda3\\lib\\site-packages (from requests) (2021.10.8)\n",
      "Requirement already satisfied: idna<4,>=2.5 in c:\\users\\joakim\\anaconda3\\lib\\site-packages (from requests) (3.2)\n",
      "Requirement already satisfied: charset-normalizer~=2.0.0 in c:\\users\\joakim\\anaconda3\\lib\\site-packages (from requests) (2.0.4)\n",
      "Requirement already satisfied: urllib3<1.27,>=1.21.1 in c:\\users\\joakim\\anaconda3\\lib\\site-packages (from requests) (1.26.7)\n"
     ]
    }
   ],
   "source": [
    "!pip install requests"
   ]
  },
  {
   "cell_type": "code",
   "execution_count": 23,
   "id": "474f5dc3",
   "metadata": {},
   "outputs": [],
   "source": [
    "#Get short lived access token\n",
    "APP_ID = \"959864759631341\"\n",
    "APP_SECRET = \"bb349f99f4c3e207ff9135075576f489\"\n",
    "REDIRECT_URI = \"http://localhost:8888/tree\"\n",
    "ACCESS_TOKEN = \"EAANoZCe4Hve0BOyvElqzHXuhmxoWr6vBCKBQr2U47CqrNZBLCbzrTIxf4IKoH8UTtDcMyP0XF7gp0yueHpn9jFnIGyr3rGnY9rIrno80c29JSIAYBlQDeAkirmrofQq25KzVrk0k7B5UVsfaeCTKZAWAPrZC859rhccDnRcMlphx2rwz7qUzvuzT0doEoBTd7MEHN5z7mfL9bOlJmqngIsmx\"  # Replace after getting it\n"
   ]
  },
  {
   "cell_type": "code",
   "execution_count": 21,
   "id": "a1472c4a",
   "metadata": {},
   "outputs": [
    {
     "name": "stdout",
     "output_type": "stream",
     "text": [
      "Go to this URL to authorize:\n",
      "https://www.facebook.com/v18.0/dialog/oauth?client_id=959864759631341&redirect_uri=http://localhost:8888/tree&scope=instagram_basic,instagram_content_publish&response_type=code\n"
     ]
    }
   ],
   "source": [
    "# Use OAuth to authenticate to get the code, it will be displayed in the url of your browser.\n",
    "auth_url = f\"https://www.facebook.com/v18.0/dialog/oauth?client_id={APP_ID}&redirect_uri={REDIRECT_URI}&scope=instagram_basic,instagram_content_publish&response_type=code\"\n",
    "print(f\"Go to this URL to authorize:\\n{auth_url}\")"
   ]
  },
  {
   "cell_type": "code",
   "execution_count": 24,
   "id": "81957677",
   "metadata": {},
   "outputs": [
    {
     "name": "stdout",
     "output_type": "stream",
     "text": [
      "Access Token: EAANoZCe4Hve0BO3YaPAyS3QkZAxjN5fT624ZCXCOb1kbowR8FmsT9ZAc56WXkSckGyDm1SoYGHNRS7NKZAfYw33XgpHZAa83N7gH8YZCzkFlswuKo85IlaEpK9usHwa4RUxfsM1GHNnkNPZBJg1eV44T5aeLYYnsqM3yZBNFCEf7WGp7iBUmkpUNBb2ZCG4HXl5eezP2R5aUL3XYUZCaTnAuLRCEwsXbZB6iX4Ll5qHXkR4QQ8ZBVFLDZA7QZDZD\n"
     ]
    }
   ],
   "source": [
    "import requests\n",
    "\n",
    "code = \"AQA-17Ffm8FrEQRQjqhUKDJ_6cw3VyrpKEsT0bV8asG1Q_dmbWm_6wfsYqYf7YQdLa0tsYQlW7ZMpGvl1oWoohVLWiGvbrRgO1WWakW6ffAbOu4L1jRElmccCh5knjwomdVZQ3CtS1ZZd4__OBKB7bExZPofcyYweEZIN2RJ-LmnhGqFERwpsCzw5REDpw34ki4i8gXCyNVUTEp8QI6MbG6i6Haf78in6_7LBw1_Xf630khwuGV6AU_U3AAk5OHhiPRDe4DAJKO6CyIBqI_In2LMXUxV3oiR0UZwR_DMjruMWzACaAA6TobSkxG1643vsc6H8L5o5qBwNInNr2SjkcH6WlyM9SsmLCx_Lba3s_HHF_t41KtFMVjAZMdwusMb4NDPGGZlOhqjIcl1fu9NZjpzTKI3Ep6d8y5N6-Xgs1SY9g#_=_\"\n",
    "\n",
    "token_url = f\"https://graph.facebook.com/v18.0/oauth/access_token\"\n",
    "params = {\n",
    "    \"client_id\": APP_ID,\n",
    "    \"client_secret\": APP_SECRET,\n",
    "    \"redirect_uri\": REDIRECT_URI,\n",
    "    \"code\": code,\n",
    "}\n",
    "\n",
    "response = requests.get(token_url, params=params)\n",
    "access_token_data = response.json()\n",
    "ACCESS_TOKEN = access_token_data.get(\"access_token\")\n",
    "print(\"Access Token:\", ACCESS_TOKEN)"
   ]
  },
  {
   "cell_type": "code",
   "execution_count": 25,
   "id": "4dd1bd40",
   "metadata": {},
   "outputs": [
    {
     "name": "stdout",
     "output_type": "stream",
     "text": [
      "Long-Lived Access Token: EAANoZCe4Hve0BO1kZAI1Qwibz9l4Eh9sx8jDHZC0LKXtPSlYwXV7f7SZB0r1IAVlraI5FaahbNsIWDolPtbbwyp2rhluqSPox3RLctCx8bRYVxZAGG4SZAcyx40s4sZB3mxQU5aVlpnoOGbyjHyUrXdlleWA1VuPkWOR11OE5nL5ZAIUxHbpi4wd6QZDZD\n"
     ]
    }
   ],
   "source": [
    "long_lived_token_url = f\"https://graph.facebook.com/v18.0/oauth/access_token\"\n",
    "params = {\n",
    "    \"grant_type\": \"fb_exchange_token\",\n",
    "    \"client_id\": APP_ID,\n",
    "    \"client_secret\": APP_SECRET,\n",
    "    \"fb_exchange_token\": ACCESS_TOKEN,\n",
    "}\n",
    "\n",
    "response = requests.get(long_lived_token_url, params=params)\n",
    "long_lived_token_data = response.json()\n",
    "ACCESS_TOKEN = long_lived_token_data.get(\"access_token\")\n",
    "print(\"Long-Lived Access Token:\", ACCESS_TOKEN)"
   ]
  },
  {
   "cell_type": "code",
   "execution_count": 26,
   "id": "778580f3",
   "metadata": {},
   "outputs": [
    {
     "name": "stdout",
     "output_type": "stream",
     "text": [
      "Token Info: {'data': {'app_id': '959864759631341', 'type': 'USER', 'application': 'TestingApi app', 'data_access_expires_at': 1747826157, 'expires_at': 1745221050, 'is_valid': True, 'issued_at': 1740050221, 'scopes': ['read_insights', 'pages_show_list', 'ads_management', 'business_management', 'instagram_basic', 'instagram_manage_insights', 'instagram_content_publish', 'pages_read_user_content', 'public_profile'], 'granular_scopes': [{'scope': 'pages_show_list'}, {'scope': 'ads_management'}, {'scope': 'business_management', 'target_ids': ['9292771070817285']}, {'scope': 'instagram_basic'}, {'scope': 'instagram_manage_insights'}, {'scope': 'instagram_content_publish'}, {'scope': 'pages_read_user_content'}], 'user_id': '10229973218848044'}}\n"
     ]
    }
   ],
   "source": [
    "import requests\n",
    "\n",
    "ACCESS_TOKEN = \"EAANoZCe4Hve0BO1kZAI1Qwibz9l4Eh9sx8jDHZC0LKXtPSlYwXV7f7SZB0r1IAVlraI5FaahbNsIWDolPtbbwyp2rhluqSPox3RLctCx8bRYVxZAGG4SZAcyx40s4sZB3mxQU5aVlpnoOGbyjHyUrXdlleWA1VuPkWOR11OE5nL5ZAIUxHbpi4wd6QZDZD\"\n",
    "\n",
    "debug_url = \"https://graph.facebook.com/debug_token\"\n",
    "params = {\n",
    "    \"input_token\": ACCESS_TOKEN,\n",
    "    \"access_token\": f\"{APP_ID}|{APP_SECRET}\",\n",
    "}\n",
    "\n",
    "response = requests.get(debug_url, params=params)\n",
    "token_info = response.json()\n",
    "\n",
    "print(\"Token Info:\", token_info)"
   ]
  },
  {
   "cell_type": "code",
   "execution_count": 29,
   "id": "d92a293d",
   "metadata": {},
   "outputs": [
    {
     "name": "stdout",
     "output_type": "stream",
     "text": [
      "Token Expiration Date: 2025-04-21 07:37:30 UTC\n"
     ]
    }
   ],
   "source": [
    "import datetime\n",
    "\n",
    "expires_at = 1745221050  # Replace with your timestamp\n",
    "readable_date = datetime.datetime.utcfromtimestamp(expires_at).strftime('%Y-%m-%d %H:%M:%S UTC')\n",
    "\n",
    "print(\"Token Expiration Date:\", readable_date)"
   ]
  }
 ],
 "metadata": {
  "kernelspec": {
   "display_name": "Python 3 (ipykernel)",
   "language": "python",
   "name": "python3"
  },
  "language_info": {
   "codemirror_mode": {
    "name": "ipython",
    "version": 3
   },
   "file_extension": ".py",
   "mimetype": "text/x-python",
   "name": "python",
   "nbconvert_exporter": "python",
   "pygments_lexer": "ipython3",
   "version": "3.9.7"
  }
 },
 "nbformat": 4,
 "nbformat_minor": 5
}
