{
 "cells": [
  {
   "cell_type": "code",
   "execution_count": 4,
   "id": "3a220377",
   "metadata": {},
   "outputs": [
    {
     "name": "stdout",
     "output_type": "stream",
     "text": [
      "Requirement already satisfied: nltk in c:\\users\\joakim\\anaconda3\\lib\\site-packages (3.6.5)\n",
      "Requirement already satisfied: click in c:\\users\\joakim\\anaconda3\\lib\\site-packages (from nltk) (8.0.3)\n",
      "Requirement already satisfied: joblib in c:\\users\\joakim\\anaconda3\\lib\\site-packages (from nltk) (1.1.0)\n",
      "Requirement already satisfied: regex>=2021.8.3 in c:\\users\\joakim\\anaconda3\\lib\\site-packages (from nltk) (2021.8.3)\n",
      "Requirement already satisfied: tqdm in c:\\users\\joakim\\anaconda3\\lib\\site-packages (from nltk) (4.62.3)\n",
      "Requirement already satisfied: colorama in c:\\users\\joakim\\anaconda3\\lib\\site-packages (from click->nltk) (0.4.4)\n",
      "Note: you may need to restart the kernel to use updated packages.\n"
     ]
    }
   ],
   "source": [
    "#Install nltk\n",
    "#pip install nltk"
   ]
  },
  {
   "cell_type": "code",
   "execution_count": 20,
   "id": "b13da398",
   "metadata": {},
   "outputs": [
    {
     "name": "stderr",
     "output_type": "stream",
     "text": [
      "[nltk_data] Downloading package vader_lexicon to\n",
      "[nltk_data]     C:\\Users\\Joakim\\AppData\\Roaming\\nltk_data...\n",
      "[nltk_data]   Package vader_lexicon is already up-to-date!\n"
     ]
    },
    {
     "data": {
      "text/plain": [
       "True"
      ]
     },
     "execution_count": 20,
     "metadata": {},
     "output_type": "execute_result"
    }
   ],
   "source": [
    "#IMPORT THE REQUIRED LIBRARIES\n",
    "\n",
    "import nltk\n",
    "import sqlite3\n",
    "import pandas as pd\n",
    "from nltk.sentiment import SentimentIntensityAnalyzer\n",
    "#nltk.download('vader_lexicon')"
   ]
  },
  {
   "cell_type": "code",
   "execution_count": 25,
   "id": "ae4805ae",
   "metadata": {},
   "outputs": [
    {
     "name": "stdout",
     "output_type": "stream",
     "text": [
      "Sentiment analysis data stored successfully!\n"
     ]
    }
   ],
   "source": [
    "sia = SentimentIntensityAnalyzer()\n",
    "\n",
    "# Connect to the SQLite database\n",
    "conn = sqlite3.connect(\"instagram_data.db\")\n",
    "cursor = conn.cursor()\n",
    "\n",
    "# Create the sentiment_analysis table if it doesn't exist\n",
    "cursor.execute(\"\"\"\n",
    "CREATE TABLE IF NOT EXISTS sentiment_analysis (\n",
    "    id TEXT PRIMARY KEY,\n",
    "    negative REAL,\n",
    "    neutral REAL,\n",
    "    positive REAL,\n",
    "    compound REAL,\n",
    "    FOREIGN KEY (id) REFERENCES instagram_posts(id) ON DELETE CASCADE\n",
    ")\n",
    "\"\"\")\n",
    "\n",
    "# Query to fetch all posts from instagram_posts\n",
    "cursor.execute(\"SELECT id, caption FROM instagram_posts\")\n",
    "rows = cursor.fetchall()\n",
    "\n",
    "# Prepare data for insertion\n",
    "sentiment_data = []\n",
    "for row in rows:\n",
    "    post_id, caption = row\n",
    "    sentiment = sia.polarity_scores(caption)\n",
    "\n",
    "    # Extract scores\n",
    "    negative = sentiment['neg']\n",
    "    neutral = sentiment['neu']\n",
    "    positive = sentiment['pos']\n",
    "    compound = sentiment['compound']\n",
    "\n",
    "    # Append to list\n",
    "    sentiment_data.append((post_id, negative, neutral, positive, compound))\n",
    "\n",
    "# Insert sentiment analysis results into the new table\n",
    "cursor.executemany(\"\"\"\n",
    "INSERT OR REPLACE INTO sentiment_analysis \n",
    "(id, negative, neutral, positive, compound) \n",
    "VALUES (?, ?, ?, ?, ?)\n",
    "\"\"\", sentiment_data)\n",
    "\n",
    "# Commit and close\n",
    "conn.commit()\n",
    "conn.close()\n",
    "\n",
    "print(\"Sentiment analysis data stored successfully!\")"
   ]
  },
  {
   "cell_type": "code",
   "execution_count": 26,
   "id": "f53dabb8",
   "metadata": {},
   "outputs": [
    {
     "name": "stdout",
     "output_type": "stream",
     "text": [
      "                  id  negative  neutral  positive  compound\n",
      "0  17920309653044896       0.0    0.734     0.266    0.4404\n",
      "1  18034496246531367       0.0    0.000     0.000    0.0000\n",
      "2  18090093601497188       0.0    0.000     0.000    0.0000\n",
      "3  17861666277364573       0.0    0.691     0.309    0.9245\n"
     ]
    }
   ],
   "source": [
    "# PRINTING ALL THE POSTS AND THEIR RESPECTIVE SCORES\n",
    "# Connect to the SQLite database\n",
    "conn = sqlite3.connect(\"instagram_data.db\")\n",
    "cursor = conn.cursor()\n",
    "\n",
    "\n",
    "cursor.execute(\"SELECT * FROM sentiment_analysis\")\n",
    "rows = cursor.fetchall()\n",
    "\n",
    "df = pd.DataFrame(rows, columns=headers)\n",
    "\n",
    "print(df)\n",
    "# Close the connection\n",
    "conn.close()"
   ]
  },
  {
   "cell_type": "code",
   "execution_count": 31,
   "id": "20d2a7c2",
   "metadata": {},
   "outputs": [
    {
     "name": "stdout",
     "output_type": "stream",
     "text": [
      "Post ID: 17920309653044896, Negative: 0.0, Neutral: 0.734, Positive: 0.266, Compound: 0.4404\n"
     ]
    }
   ],
   "source": [
    "post_id = \"17920309653044896\"  # Replace with the actual post ID\n",
    "\n",
    "conn = sqlite3.connect(\"instagram_data.db\")\n",
    "cursor = conn.cursor()\n",
    "\n",
    "cursor.execute(\"SELECT * FROM sentiment_analysis WHERE id = ?\", (post_id,))\n",
    "result = cursor.fetchone()\n",
    "\n",
    "if result:\n",
    "    print(f\"Post ID: {result[0]}, Negative: {result[1]}, Neutral: {result[2]}, Positive: {result[3]}, Compound: {result[4]}\")\n",
    "else:\n",
    "    print(\"No sentiment data found for this post.\")\n",
    "\n",
    "# Close connection\n",
    "conn.close()"
   ]
  }
 ],
 "metadata": {
  "kernelspec": {
   "display_name": "Python 3 (ipykernel)",
   "language": "python",
   "name": "python3"
  },
  "language_info": {
   "codemirror_mode": {
    "name": "ipython",
    "version": 3
   },
   "file_extension": ".py",
   "mimetype": "text/x-python",
   "name": "python",
   "nbconvert_exporter": "python",
   "pygments_lexer": "ipython3",
   "version": "3.9.7"
  }
 },
 "nbformat": 4,
 "nbformat_minor": 5
}
